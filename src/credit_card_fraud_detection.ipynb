{
 "cells": [
  {
   "cell_type": "markdown",
   "id": "e010e7e6",
   "metadata": {},
   "source": [
    "# Credit Card Fraud Detection"
   ]
  },
  {
   "cell_type": "code",
   "execution_count": null,
   "id": "680e5f33",
   "metadata": {},
   "outputs": [],
   "source": [
    "import warnings\n",
    "\n",
    "import matplotlib.pyplot as plt\n",
    "import numpy as np\n",
    "import pandas as pd\n",
    "import seaborn as sns\n",
    "import torch\n",
    "import torch.nn as nn\n",
    "import torch.optim as optim\n",
    "from pytorch_lightning import seed_everything\n",
    "from sklearn.ensemble import IsolationForest, RandomForestClassifier\n",
    "from sklearn.metrics import auc, roc_curve\n",
    "from sklearn.preprocessing import Normalizer, minmax_scale\n",
    "from torch.utils.data import (BatchSampler, DataLoader, Dataset, RandomSampler,\n",
    "                              SequentialSampler, TensorDataset)\n",
    "\n",
    "warnings.filterwarnings(\"ignore\")"
   ]
  },
  {
   "cell_type": "markdown",
   "id": "84e1058d",
   "metadata": {},
   "source": [
    "## 1. Loading in data and setup"
   ]
  },
  {
   "cell_type": "code",
   "execution_count": 2,
   "id": "e1d752f3",
   "metadata": {},
   "outputs": [
    {
     "data": {
      "text/html": [
       "<div>\n",
       "<style scoped>\n",
       "    .dataframe tbody tr th:only-of-type {\n",
       "        vertical-align: middle;\n",
       "    }\n",
       "\n",
       "    .dataframe tbody tr th {\n",
       "        vertical-align: top;\n",
       "    }\n",
       "\n",
       "    .dataframe thead th {\n",
       "        text-align: right;\n",
       "    }\n",
       "</style>\n",
       "<table border=\"1\" class=\"dataframe\">\n",
       "  <thead>\n",
       "    <tr style=\"text-align: right;\">\n",
       "      <th></th>\n",
       "      <th>Time</th>\n",
       "      <th>V1</th>\n",
       "      <th>V2</th>\n",
       "      <th>V3</th>\n",
       "      <th>V4</th>\n",
       "      <th>V5</th>\n",
       "      <th>V6</th>\n",
       "      <th>V7</th>\n",
       "      <th>V8</th>\n",
       "      <th>V9</th>\n",
       "      <th>...</th>\n",
       "      <th>V21</th>\n",
       "      <th>V22</th>\n",
       "      <th>V23</th>\n",
       "      <th>V24</th>\n",
       "      <th>V25</th>\n",
       "      <th>V26</th>\n",
       "      <th>V27</th>\n",
       "      <th>V28</th>\n",
       "      <th>Amount</th>\n",
       "      <th>Class</th>\n",
       "    </tr>\n",
       "  </thead>\n",
       "  <tbody>\n",
       "    <tr>\n",
       "      <th>0</th>\n",
       "      <td>0.0</td>\n",
       "      <td>-1.359807</td>\n",
       "      <td>-0.072781</td>\n",
       "      <td>2.536347</td>\n",
       "      <td>1.378155</td>\n",
       "      <td>-0.338321</td>\n",
       "      <td>0.462388</td>\n",
       "      <td>0.239599</td>\n",
       "      <td>0.098698</td>\n",
       "      <td>0.363787</td>\n",
       "      <td>...</td>\n",
       "      <td>-0.018307</td>\n",
       "      <td>0.277838</td>\n",
       "      <td>-0.110474</td>\n",
       "      <td>0.066928</td>\n",
       "      <td>0.128539</td>\n",
       "      <td>-0.189115</td>\n",
       "      <td>0.133558</td>\n",
       "      <td>-0.021053</td>\n",
       "      <td>149.62</td>\n",
       "      <td>0</td>\n",
       "    </tr>\n",
       "    <tr>\n",
       "      <th>1</th>\n",
       "      <td>0.0</td>\n",
       "      <td>1.191857</td>\n",
       "      <td>0.266151</td>\n",
       "      <td>0.166480</td>\n",
       "      <td>0.448154</td>\n",
       "      <td>0.060018</td>\n",
       "      <td>-0.082361</td>\n",
       "      <td>-0.078803</td>\n",
       "      <td>0.085102</td>\n",
       "      <td>-0.255425</td>\n",
       "      <td>...</td>\n",
       "      <td>-0.225775</td>\n",
       "      <td>-0.638672</td>\n",
       "      <td>0.101288</td>\n",
       "      <td>-0.339846</td>\n",
       "      <td>0.167170</td>\n",
       "      <td>0.125895</td>\n",
       "      <td>-0.008983</td>\n",
       "      <td>0.014724</td>\n",
       "      <td>2.69</td>\n",
       "      <td>0</td>\n",
       "    </tr>\n",
       "    <tr>\n",
       "      <th>2</th>\n",
       "      <td>1.0</td>\n",
       "      <td>-1.358354</td>\n",
       "      <td>-1.340163</td>\n",
       "      <td>1.773209</td>\n",
       "      <td>0.379780</td>\n",
       "      <td>-0.503198</td>\n",
       "      <td>1.800499</td>\n",
       "      <td>0.791461</td>\n",
       "      <td>0.247676</td>\n",
       "      <td>-1.514654</td>\n",
       "      <td>...</td>\n",
       "      <td>0.247998</td>\n",
       "      <td>0.771679</td>\n",
       "      <td>0.909412</td>\n",
       "      <td>-0.689281</td>\n",
       "      <td>-0.327642</td>\n",
       "      <td>-0.139097</td>\n",
       "      <td>-0.055353</td>\n",
       "      <td>-0.059752</td>\n",
       "      <td>378.66</td>\n",
       "      <td>0</td>\n",
       "    </tr>\n",
       "    <tr>\n",
       "      <th>3</th>\n",
       "      <td>1.0</td>\n",
       "      <td>-0.966272</td>\n",
       "      <td>-0.185226</td>\n",
       "      <td>1.792993</td>\n",
       "      <td>-0.863291</td>\n",
       "      <td>-0.010309</td>\n",
       "      <td>1.247203</td>\n",
       "      <td>0.237609</td>\n",
       "      <td>0.377436</td>\n",
       "      <td>-1.387024</td>\n",
       "      <td>...</td>\n",
       "      <td>-0.108300</td>\n",
       "      <td>0.005274</td>\n",
       "      <td>-0.190321</td>\n",
       "      <td>-1.175575</td>\n",
       "      <td>0.647376</td>\n",
       "      <td>-0.221929</td>\n",
       "      <td>0.062723</td>\n",
       "      <td>0.061458</td>\n",
       "      <td>123.50</td>\n",
       "      <td>0</td>\n",
       "    </tr>\n",
       "    <tr>\n",
       "      <th>4</th>\n",
       "      <td>2.0</td>\n",
       "      <td>-1.158233</td>\n",
       "      <td>0.877737</td>\n",
       "      <td>1.548718</td>\n",
       "      <td>0.403034</td>\n",
       "      <td>-0.407193</td>\n",
       "      <td>0.095921</td>\n",
       "      <td>0.592941</td>\n",
       "      <td>-0.270533</td>\n",
       "      <td>0.817739</td>\n",
       "      <td>...</td>\n",
       "      <td>-0.009431</td>\n",
       "      <td>0.798278</td>\n",
       "      <td>-0.137458</td>\n",
       "      <td>0.141267</td>\n",
       "      <td>-0.206010</td>\n",
       "      <td>0.502292</td>\n",
       "      <td>0.219422</td>\n",
       "      <td>0.215153</td>\n",
       "      <td>69.99</td>\n",
       "      <td>0</td>\n",
       "    </tr>\n",
       "    <tr>\n",
       "      <th>...</th>\n",
       "      <td>...</td>\n",
       "      <td>...</td>\n",
       "      <td>...</td>\n",
       "      <td>...</td>\n",
       "      <td>...</td>\n",
       "      <td>...</td>\n",
       "      <td>...</td>\n",
       "      <td>...</td>\n",
       "      <td>...</td>\n",
       "      <td>...</td>\n",
       "      <td>...</td>\n",
       "      <td>...</td>\n",
       "      <td>...</td>\n",
       "      <td>...</td>\n",
       "      <td>...</td>\n",
       "      <td>...</td>\n",
       "      <td>...</td>\n",
       "      <td>...</td>\n",
       "      <td>...</td>\n",
       "      <td>...</td>\n",
       "      <td>...</td>\n",
       "    </tr>\n",
       "    <tr>\n",
       "      <th>284802</th>\n",
       "      <td>172786.0</td>\n",
       "      <td>-11.881118</td>\n",
       "      <td>10.071785</td>\n",
       "      <td>-9.834783</td>\n",
       "      <td>-2.066656</td>\n",
       "      <td>-5.364473</td>\n",
       "      <td>-2.606837</td>\n",
       "      <td>-4.918215</td>\n",
       "      <td>7.305334</td>\n",
       "      <td>1.914428</td>\n",
       "      <td>...</td>\n",
       "      <td>0.213454</td>\n",
       "      <td>0.111864</td>\n",
       "      <td>1.014480</td>\n",
       "      <td>-0.509348</td>\n",
       "      <td>1.436807</td>\n",
       "      <td>0.250034</td>\n",
       "      <td>0.943651</td>\n",
       "      <td>0.823731</td>\n",
       "      <td>0.77</td>\n",
       "      <td>0</td>\n",
       "    </tr>\n",
       "    <tr>\n",
       "      <th>284803</th>\n",
       "      <td>172787.0</td>\n",
       "      <td>-0.732789</td>\n",
       "      <td>-0.055080</td>\n",
       "      <td>2.035030</td>\n",
       "      <td>-0.738589</td>\n",
       "      <td>0.868229</td>\n",
       "      <td>1.058415</td>\n",
       "      <td>0.024330</td>\n",
       "      <td>0.294869</td>\n",
       "      <td>0.584800</td>\n",
       "      <td>...</td>\n",
       "      <td>0.214205</td>\n",
       "      <td>0.924384</td>\n",
       "      <td>0.012463</td>\n",
       "      <td>-1.016226</td>\n",
       "      <td>-0.606624</td>\n",
       "      <td>-0.395255</td>\n",
       "      <td>0.068472</td>\n",
       "      <td>-0.053527</td>\n",
       "      <td>24.79</td>\n",
       "      <td>0</td>\n",
       "    </tr>\n",
       "    <tr>\n",
       "      <th>284804</th>\n",
       "      <td>172788.0</td>\n",
       "      <td>1.919565</td>\n",
       "      <td>-0.301254</td>\n",
       "      <td>-3.249640</td>\n",
       "      <td>-0.557828</td>\n",
       "      <td>2.630515</td>\n",
       "      <td>3.031260</td>\n",
       "      <td>-0.296827</td>\n",
       "      <td>0.708417</td>\n",
       "      <td>0.432454</td>\n",
       "      <td>...</td>\n",
       "      <td>0.232045</td>\n",
       "      <td>0.578229</td>\n",
       "      <td>-0.037501</td>\n",
       "      <td>0.640134</td>\n",
       "      <td>0.265745</td>\n",
       "      <td>-0.087371</td>\n",
       "      <td>0.004455</td>\n",
       "      <td>-0.026561</td>\n",
       "      <td>67.88</td>\n",
       "      <td>0</td>\n",
       "    </tr>\n",
       "    <tr>\n",
       "      <th>284805</th>\n",
       "      <td>172788.0</td>\n",
       "      <td>-0.240440</td>\n",
       "      <td>0.530483</td>\n",
       "      <td>0.702510</td>\n",
       "      <td>0.689799</td>\n",
       "      <td>-0.377961</td>\n",
       "      <td>0.623708</td>\n",
       "      <td>-0.686180</td>\n",
       "      <td>0.679145</td>\n",
       "      <td>0.392087</td>\n",
       "      <td>...</td>\n",
       "      <td>0.265245</td>\n",
       "      <td>0.800049</td>\n",
       "      <td>-0.163298</td>\n",
       "      <td>0.123205</td>\n",
       "      <td>-0.569159</td>\n",
       "      <td>0.546668</td>\n",
       "      <td>0.108821</td>\n",
       "      <td>0.104533</td>\n",
       "      <td>10.00</td>\n",
       "      <td>0</td>\n",
       "    </tr>\n",
       "    <tr>\n",
       "      <th>284806</th>\n",
       "      <td>172792.0</td>\n",
       "      <td>-0.533413</td>\n",
       "      <td>-0.189733</td>\n",
       "      <td>0.703337</td>\n",
       "      <td>-0.506271</td>\n",
       "      <td>-0.012546</td>\n",
       "      <td>-0.649617</td>\n",
       "      <td>1.577006</td>\n",
       "      <td>-0.414650</td>\n",
       "      <td>0.486180</td>\n",
       "      <td>...</td>\n",
       "      <td>0.261057</td>\n",
       "      <td>0.643078</td>\n",
       "      <td>0.376777</td>\n",
       "      <td>0.008797</td>\n",
       "      <td>-0.473649</td>\n",
       "      <td>-0.818267</td>\n",
       "      <td>-0.002415</td>\n",
       "      <td>0.013649</td>\n",
       "      <td>217.00</td>\n",
       "      <td>0</td>\n",
       "    </tr>\n",
       "  </tbody>\n",
       "</table>\n",
       "<p>284807 rows × 31 columns</p>\n",
       "</div>"
      ],
      "text/plain": [
       "            Time         V1         V2        V3        V4        V5  \\\n",
       "0            0.0  -1.359807  -0.072781  2.536347  1.378155 -0.338321   \n",
       "1            0.0   1.191857   0.266151  0.166480  0.448154  0.060018   \n",
       "2            1.0  -1.358354  -1.340163  1.773209  0.379780 -0.503198   \n",
       "3            1.0  -0.966272  -0.185226  1.792993 -0.863291 -0.010309   \n",
       "4            2.0  -1.158233   0.877737  1.548718  0.403034 -0.407193   \n",
       "...          ...        ...        ...       ...       ...       ...   \n",
       "284802  172786.0 -11.881118  10.071785 -9.834783 -2.066656 -5.364473   \n",
       "284803  172787.0  -0.732789  -0.055080  2.035030 -0.738589  0.868229   \n",
       "284804  172788.0   1.919565  -0.301254 -3.249640 -0.557828  2.630515   \n",
       "284805  172788.0  -0.240440   0.530483  0.702510  0.689799 -0.377961   \n",
       "284806  172792.0  -0.533413  -0.189733  0.703337 -0.506271 -0.012546   \n",
       "\n",
       "              V6        V7        V8        V9  ...       V21       V22  \\\n",
       "0       0.462388  0.239599  0.098698  0.363787  ... -0.018307  0.277838   \n",
       "1      -0.082361 -0.078803  0.085102 -0.255425  ... -0.225775 -0.638672   \n",
       "2       1.800499  0.791461  0.247676 -1.514654  ...  0.247998  0.771679   \n",
       "3       1.247203  0.237609  0.377436 -1.387024  ... -0.108300  0.005274   \n",
       "4       0.095921  0.592941 -0.270533  0.817739  ... -0.009431  0.798278   \n",
       "...          ...       ...       ...       ...  ...       ...       ...   \n",
       "284802 -2.606837 -4.918215  7.305334  1.914428  ...  0.213454  0.111864   \n",
       "284803  1.058415  0.024330  0.294869  0.584800  ...  0.214205  0.924384   \n",
       "284804  3.031260 -0.296827  0.708417  0.432454  ...  0.232045  0.578229   \n",
       "284805  0.623708 -0.686180  0.679145  0.392087  ...  0.265245  0.800049   \n",
       "284806 -0.649617  1.577006 -0.414650  0.486180  ...  0.261057  0.643078   \n",
       "\n",
       "             V23       V24       V25       V26       V27       V28  Amount  \\\n",
       "0      -0.110474  0.066928  0.128539 -0.189115  0.133558 -0.021053  149.62   \n",
       "1       0.101288 -0.339846  0.167170  0.125895 -0.008983  0.014724    2.69   \n",
       "2       0.909412 -0.689281 -0.327642 -0.139097 -0.055353 -0.059752  378.66   \n",
       "3      -0.190321 -1.175575  0.647376 -0.221929  0.062723  0.061458  123.50   \n",
       "4      -0.137458  0.141267 -0.206010  0.502292  0.219422  0.215153   69.99   \n",
       "...          ...       ...       ...       ...       ...       ...     ...   \n",
       "284802  1.014480 -0.509348  1.436807  0.250034  0.943651  0.823731    0.77   \n",
       "284803  0.012463 -1.016226 -0.606624 -0.395255  0.068472 -0.053527   24.79   \n",
       "284804 -0.037501  0.640134  0.265745 -0.087371  0.004455 -0.026561   67.88   \n",
       "284805 -0.163298  0.123205 -0.569159  0.546668  0.108821  0.104533   10.00   \n",
       "284806  0.376777  0.008797 -0.473649 -0.818267 -0.002415  0.013649  217.00   \n",
       "\n",
       "        Class  \n",
       "0           0  \n",
       "1           0  \n",
       "2           0  \n",
       "3           0  \n",
       "4           0  \n",
       "...       ...  \n",
       "284802      0  \n",
       "284803      0  \n",
       "284804      0  \n",
       "284805      0  \n",
       "284806      0  \n",
       "\n",
       "[284807 rows x 31 columns]"
      ]
     },
     "execution_count": 2,
     "metadata": {},
     "output_type": "execute_result"
    }
   ],
   "source": [
    "df = pd.read_csv('../data/creditcard.csv')\n",
    "df"
   ]
  },
  {
   "cell_type": "code",
   "execution_count": 3,
   "id": "b9156ea4",
   "metadata": {},
   "outputs": [
    {
     "data": {
      "text/plain": [
       "(284807, 31)"
      ]
     },
     "execution_count": 3,
     "metadata": {},
     "output_type": "execute_result"
    }
   ],
   "source": [
    "df.shape"
   ]
  },
  {
   "cell_type": "code",
   "execution_count": 5,
   "id": "050f6643",
   "metadata": {},
   "outputs": [
    {
     "data": {
      "text/plain": [
       "Class\n",
       "0    0.998273\n",
       "1    0.001727\n",
       "Name: proportion, dtype: float64"
      ]
     },
     "execution_count": 5,
     "metadata": {},
     "output_type": "execute_result"
    }
   ],
   "source": [
    "df['Class'].value_counts(normalize=True)"
   ]
  },
  {
   "cell_type": "code",
   "execution_count": 6,
   "id": "26f89019",
   "metadata": {},
   "outputs": [
    {
     "data": {
      "text/plain": [
       "<Axes: xlabel='Class', ylabel='count'>"
      ]
     },
     "execution_count": 6,
     "metadata": {},
     "output_type": "execute_result"
    },
    {
     "data": {
      "image/png": "[encoded data removed]",
      "text/plain": [
       "<Figure size 640x480 with 1 Axes>"
      ]
     },
     "metadata": {},
     "output_type": "display_data"
    }
   ],
   "source": [
    "sns.countplot(x = 'Class', data = df)"
   ]
  },
  {
   "cell_type": "markdown",
   "id": "0b99d254",
   "metadata": {},
   "source": [
    "We have huge class imbalance here: only 0.17% of the samples is credit card fraud. We will keep this in mind as we later implement binary classification."
   ]
  },
  {
   "cell_type": "code",
   "execution_count": 7,
   "id": "a1ea6be8",
   "metadata": {},
   "outputs": [
    {
     "name": "stderr",
     "output_type": "stream",
     "text": [
      "Seed set to 42\n"
     ]
    },
    {
     "name": "stdout",
     "output_type": "stream",
     "text": [
      "Selected device is cpu\n"
     ]
    }
   ],
   "source": [
    "SEED = 42\n",
    "seed_everything(SEED)\n",
    "DEVICE = \"cuda\" if torch.cuda.is_available() else \"cpu\"\n",
    "print(\"Selected device is\", DEVICE)"
   ]
  },
  {
   "cell_type": "code",
   "execution_count": 8,
   "id": "2dbe6680",
   "metadata": {},
   "outputs": [
    {
     "name": "stdout",
     "output_type": "stream",
     "text": [
      "Total number of columns with missing values: 0\n"
     ]
    }
   ],
   "source": [
    "missing_col_count = 0\n",
    "for col in df.columns:\n",
    "    missings = df[col].isnull().sum()\n",
    "    if missings > 1:\n",
    "        print(col, ':', missings)\n",
    "        missing_col_count += 1\n",
    "print(f'Total number of columns with missing values: {missing_col_count}')"
   ]
  },
  {
   "cell_type": "markdown",
   "id": "352c1518",
   "metadata": {},
   "source": [
    "## 2. Data preprocessing"
   ]
  },
  {
   "cell_type": "code",
   "execution_count": 9,
   "id": "e9352cc1",
   "metadata": {},
   "outputs": [
    {
     "data": {
      "text/plain": [
       "count    284807.000000\n",
       "mean      94813.859575\n",
       "std       47488.145955\n",
       "min           0.000000\n",
       "25%       54201.500000\n",
       "50%       84692.000000\n",
       "75%      139320.500000\n",
       "max      172792.000000\n",
       "Name: Time, dtype: float64"
      ]
     },
     "execution_count": 9,
     "metadata": {},
     "output_type": "execute_result"
    }
   ],
   "source": [
    "df.Time.describe()"
   ]
  },
  {
   "cell_type": "markdown",
   "id": "f973136b",
   "metadata": {},
   "source": [
    "We will make a time-series split: we take the samples up to 75th percentile of time as the training set."
   ]
  },
  {
   "cell_type": "code",
   "execution_count": 10,
   "id": "9177ddba",
   "metadata": {},
   "outputs": [],
   "source": [
    "time_split_point = 139_320\n",
    "\n",
    "df_train = df.loc[df.Time <= time_split_point].drop(columns='Time')\n",
    "df_test = df.loc[df.Time > time_split_point].drop(columns='Time')\n",
    "\n",
    "y_train = df_train.Class\n",
    "y_test = df_test.Class\n",
    "\n",
    "X_train = df_train.drop(columns='Class')\n",
    "X_test = df_test.drop(columns='Class')"
   ]
  },
  {
   "cell_type": "markdown",
   "id": "f867558d",
   "metadata": {},
   "source": [
    "The features are V1, V2, V3 etc, probably because they are transformed features or embeddings, as the results of dimensionality reduction or transformation. Therefore, we will normalize each sample vector to have unit norm."
   ]
  },
  {
   "cell_type": "code",
   "execution_count": 12,
   "id": "70379811",
   "metadata": {},
   "outputs": [
    {
     "data": {
      "text/plain": [
       "((213605, 29), (213605,))"
      ]
     },
     "execution_count": 12,
     "metadata": {},
     "output_type": "execute_result"
    }
   ],
   "source": [
    "normalizer = Normalizer()\n",
    "normalizer.fit(X_train)\n",
    "\n",
    "X_train = normalizer.transform(X_train)\n",
    "X_test = normalizer.transform(X_test)\n",
    "\n",
    "X_train.shape, y_train.shape"
   ]
  },
  {
   "cell_type": "markdown",
   "id": "894e5a48",
   "metadata": {},
   "source": [
    "We also need to convert the data into tensor format, which is expected by PyTorch."
   ]
  },
  {
   "cell_type": "code",
   "execution_count": 13,
   "id": "74dabad4",
   "metadata": {},
   "outputs": [
    {
     "data": {
      "text/plain": [
       "(torch.Size([213605, 29]), torch.Size([71202, 29]))"
      ]
     },
     "execution_count": 13,
     "metadata": {},
     "output_type": "execute_result"
    }
   ],
   "source": [
    "X_train_tensor = torch.tensor(X_train, dtype=torch.float32, device=DEVICE)\n",
    "X_test_tensor = torch.tensor(X_test, dtype=torch.float32, device=DEVICE)\n",
    "\n",
    "y_train_tensor = torch.tensor(df_train['Class'].values, dtype=torch.long, device=DEVICE)\n",
    "y_test_tensor = torch.tensor(df_test['Class'].values, dtype=torch.long, device=DEVICE)\n",
    "\n",
    "X_train_tensor.shape, X_test_tensor.shape"
   ]
  },
  {
   "cell_type": "markdown",
   "id": "7b45666a",
   "metadata": {},
   "source": [
    "## 3. Unsupervised fraud detection"
   ]
  },
  {
   "cell_type": "markdown",
   "id": "11549f33",
   "metadata": {},
   "source": [
    "### 3.1. Baseline: Isolation Forest"
   ]
  },
  {
   "cell_type": "markdown",
   "id": "b13339fe",
   "metadata": {},
   "source": [
    "We will first use Isolation Forest, an unsupervised learning technique that is based on Random Forest idea. Isolation Forest made completely random splits instead of on entropy-driven basis. It calculates anomalous score by looking at the number of steps that it takes to isolate a sample. The fewer steps it takes to isolate the sample, the higher change that it is an outlier and thus, an anomaly."
   ]
  },
  {
   "cell_type": "code",
   "execution_count": 16,
   "id": "76324dbd",
   "metadata": {},
   "outputs": [],
   "source": [
    "ifor = IsolationForest(n_estimators=100, random_state=42)\n",
    "ifor.fit(X_train)\n",
    "\n",
    "ifor_preds_train = ifor.score_samples(X_train)\n",
    "ifor_preds_test = ifor.score_samples(X_test)"
   ]
  },
  {
   "cell_type": "code",
   "execution_count": 17,
   "id": "8e7af1fb",
   "metadata": {},
   "outputs": [
    {
     "name": "stdout",
     "output_type": "stream",
     "text": [
      "Isolation Forest AUC = 0.6516070400553429\n"
     ]
    },
    {
     "data": {
      "image/png": "[encoded data removed]",
      "text/plain": [
       "<Figure size 640x480 with 1 Axes>"
      ]
     },
     "metadata": {},
     "output_type": "display_data"
    }
   ],
   "source": [
    "fpr_if, tpr_if, _ = roc_curve(y_test, 1 - minmax_scale(ifor_preds_test))\n",
    "print(\"Isolation Forest AUC =\", auc(fpr_if, tpr_if))\n",
    "\n",
    "plt.plot(fpr_if, tpr_if)\n",
    "plt.xlabel(\"False Positive Rate\")\n",
    "plt.ylabel(\"True Positive Rate\")\n",
    "plt.title(\"Isolation Forest ROC Curve\")\n",
    "plt.grid(False)\n",
    "plt.show()"
   ]
  },
  {
   "cell_type": "markdown",
   "id": "f4f397ad",
   "metadata": {},
   "source": [
    "### 3.2. Autoencoder"
   ]
  },
  {
   "cell_type": "markdown",
   "id": "645cc9f0",
   "metadata": {},
   "source": [
    "Next, we train an autoencoder. The reconstruction loss of the autoencoder tells us: how well our network is able to reconstruct each sample. So, if there are samples with which our network struggles to reconstruct, indicated by high MSE, this will probably indicate that the samples are outliers."
   ]
  },
  {
   "cell_type": "code",
   "execution_count": 18,
   "id": "35ef83c5",
   "metadata": {},
   "outputs": [],
   "source": [
    "class Autoencoder(nn.Module):\n",
    "    def __init__(self, input_dim):\n",
    "        super().__init__()\n",
    "        self.encoder = nn.Sequential(\n",
    "            nn.Linear(input_dim, 16),\n",
    "            nn.Tanh(),\n",
    "            nn.Dropout(0.25),\n",
    "            nn.Linear(16, 8),\n",
    "            nn.Tanh(),\n",
    "            nn.Dropout(0.25)\n",
    "        )\n",
    "        self.decoder = nn.Sequential(\n",
    "            nn.Linear(8, 16),\n",
    "            nn.Tanh(),\n",
    "            nn.Dropout(0.25),\n",
    "            nn.Linear(16, input_dim),\n",
    "            nn.Tanh()\n",
    "        )\n",
    "\n",
    "    def forward(self, x):\n",
    "        encoded = self.encoder(x)\n",
    "        decoded = self.decoder(encoded)\n",
    "        return decoded\n",
    "    \n",
    "    def encode(self, x):\n",
    "        return self.encoder(x)"
   ]
  },
  {
   "cell_type": "code",
   "execution_count": 19,
   "id": "c1ed0254",
   "metadata": {},
   "outputs": [],
   "source": [
    "batch_size = 512\n",
    "\n",
    "train_loader = DataLoader(TensorDataset(X_train_tensor), batch_size=batch_size, shuffle=True)\n",
    "test_loader = DataLoader(TensorDataset(X_test_tensor), batch_size=batch_size, shuffle=False)"
   ]
  },
  {
   "cell_type": "code",
   "execution_count": 20,
   "id": "301e86f6",
   "metadata": {},
   "outputs": [
    {
     "name": "stdout",
     "output_type": "stream",
     "text": [
      "Epoch 1, Avergage loss: 0.0160\n",
      "Epoch 2, Avergage loss: 0.0079\n",
      "Epoch 3, Avergage loss: 0.0071\n",
      "Epoch 4, Avergage loss: 0.0068\n",
      "Epoch 5, Avergage loss: 0.0066\n",
      "Epoch 6, Avergage loss: 0.0065\n",
      "Epoch 7, Avergage loss: 0.0064\n",
      "Epoch 8, Avergage loss: 0.0063\n",
      "Epoch 9, Avergage loss: 0.0063\n",
      "Epoch 10, Avergage loss: 0.0062\n",
      "Epoch 11, Avergage loss: 0.0062\n",
      "Epoch 12, Avergage loss: 0.0062\n",
      "Epoch 13, Avergage loss: 0.0061\n",
      "Epoch 14, Avergage loss: 0.0061\n",
      "Epoch 15, Avergage loss: 0.0061\n",
      "Epoch 16, Avergage loss: 0.0061\n",
      "Epoch 17, Avergage loss: 0.0061\n",
      "Epoch 18, Avergage loss: 0.0061\n",
      "Epoch 19, Avergage loss: 0.0061\n",
      "Epoch 20, Avergage loss: 0.0061\n"
     ]
    }
   ],
   "source": [
    "input_dim = X_train_tensor.shape[1]\n",
    "learning_rate = 0.001\n",
    "model = Autoencoder(input_dim=input_dim).to(DEVICE)\n",
    "optimizer = optim.Adam(model.parameters(), lr=learning_rate)\n",
    "criterion = nn.MSELoss()\n",
    "\n",
    "num_epochs = 20\n",
    "\n",
    "for epoch in range(num_epochs):\n",
    "    model.train()\n",
    "    total_loss = 0\n",
    "    for batch in train_loader:\n",
    "        x = batch[0]\n",
    "        output = model(x)\n",
    "        loss = criterion(output, x)\n",
    "\n",
    "        optimizer.zero_grad()\n",
    "        loss.backward()\n",
    "        optimizer.step()\n",
    "        total_loss += loss.item()\n",
    "\n",
    "    avg_loss = total_loss / len(train_loader)\n",
    "    print(f'Epoch {epoch+1}, Avergage loss: {avg_loss:.4f}')"
   ]
  },
  {
   "cell_type": "code",
   "execution_count": 22,
   "id": "8f2958e1",
   "metadata": {},
   "outputs": [],
   "source": [
    "model.eval()\n",
    "reconstruction_errors = []\n",
    "\n",
    "with torch.no_grad():\n",
    "    for batch in test_loader:\n",
    "        x = batch[0]\n",
    "        output = model(x)\n",
    "        error = torch.mean((x - output) ** 2, dim=1)\n",
    "        reconstruction_errors.append(error)\n",
    "\n",
    "reconstruction_errors = torch.cat(reconstruction_errors)"
   ]
  },
  {
   "cell_type": "markdown",
   "id": "75cd5ee5",
   "metadata": {},
   "source": [
    "Based on reconstruction score, we will simply scale the score to [0, 1] and retain the AUC and ROC curve."
   ]
  },
  {
   "cell_type": "code",
   "execution_count": 28,
   "id": "13d97ade",
   "metadata": {},
   "outputs": [
    {
     "name": "stdout",
     "output_type": "stream",
     "text": [
      "Reconstruction error AUC = 0.7285974346484041\n"
     ]
    },
    {
     "data": {
      "image/png": "[encoded data removed]",
      "text/plain": [
       "<Figure size 640x480 with 1 Axes>"
      ]
     },
     "metadata": {},
     "output_type": "display_data"
    }
   ],
   "source": [
    "anomaly_scores = reconstruction_errors.cpu().numpy()\n",
    "true_labels = y_test_tensor.cpu().numpy()\n",
    "\n",
    "fpr_ae, tpr_ae, _ = roc_curve(true_labels, minmax_scale(anomaly_scores))\n",
    "print('Reconstruction error AUC =', auc(fpr_ae, tpr_ae))\n",
    "\n",
    "plt.plot(fpr_ae, tpr_ae)\n",
    "plt.xlabel(\"False Positive Rate\")\n",
    "plt.ylabel(\"True Positive Rate\")\n",
    "plt.title(\"Autoencoder ROC Curve\")\n",
    "plt.grid(False)\n",
    "plt.tight_layout()\n",
    "plt.show()"
   ]
  },
  {
   "cell_type": "markdown",
   "id": "0029df41",
   "metadata": {},
   "source": [
    "We get an AUC = 0.7276, which is higher than Isolation Forest. This is quite impressive, given that this is entirely unsupervised."
   ]
  },
  {
   "cell_type": "markdown",
   "id": "195dd230",
   "metadata": {},
   "source": [
    "## 4. Supervised fraud detection"
   ]
  },
  {
   "cell_type": "markdown",
   "id": "679d0aef",
   "metadata": {},
   "source": [
    "Now, we will train a number of supervised models to predict credit card fraud. The target is the binary classification labels of 0 or 1."
   ]
  },
  {
   "cell_type": "markdown",
   "id": "de976ede",
   "metadata": {},
   "source": [
    "### 4.1. Baseline: Random Forest with original features"
   ]
  },
  {
   "cell_type": "code",
   "execution_count": 25,
   "id": "91da1d6e",
   "metadata": {},
   "outputs": [],
   "source": [
    "rf = RandomForestClassifier(n_estimators=100, random_state=514)\n",
    "rf.fit(X_train, y_train)\n",
    "rf_preds = rf.predict_proba(X_test)"
   ]
  },
  {
   "cell_type": "code",
   "execution_count": 27,
   "id": "f017d972",
   "metadata": {},
   "outputs": [
    {
     "name": "stdout",
     "output_type": "stream",
     "text": [
      "Original features RF AUC = 0.931590649045683\n"
     ]
    },
    {
     "data": {
      "image/png": "[encoded data removed]",
      "text/plain": [
       "<Figure size 640x480 with 1 Axes>"
      ]
     },
     "metadata": {},
     "output_type": "display_data"
    }
   ],
   "source": [
    "fpr_rf, tpr_rf, _ = roc_curve(y_test, rf_preds[:, 1])\n",
    "print(\"Original features RF AUC =\", auc(fpr_rf, tpr_rf))\n",
    "\n",
    "plt.plot(fpr_rf, tpr_rf)\n",
    "plt.xlabel(\"False Positive Rate\")\n",
    "plt.ylabel(\"True Positive Rate\")\n",
    "plt.title(\"Random Forest with Original Features ROC Curve\")\n",
    "plt.grid(False)\n",
    "plt.tight_layout()\n",
    "plt.show()"
   ]
  },
  {
   "cell_type": "markdown",
   "id": "ac3e5ca1",
   "metadata": {},
   "source": [
    "### 4.2. Random Forest with anomaly scores"
   ]
  },
  {
   "cell_type": "markdown",
   "id": "f2f25fc8",
   "metadata": {},
   "source": [
    "We will use anomaly scores for Isolation Forest and autoencoder as additional features and train a Random Forest on the augmented data set."
   ]
  },
  {
   "cell_type": "code",
   "execution_count": 31,
   "id": "8fdc9f64",
   "metadata": {},
   "outputs": [],
   "source": [
    "model.eval()\n",
    "with torch.no_grad():\n",
    "    pred_train = model(X_train_tensor).cpu()\n",
    "    pred_test = model(X_test_tensor).cpu()\n",
    "\n",
    "mse_train = torch.sum((X_train_tensor.cpu() - pred_train) ** 2, dim=1)\n",
    "mse_test = torch.sum((X_test_tensor.cpu() - pred_test) ** 2, dim=1)"
   ]
  },
  {
   "cell_type": "code",
   "execution_count": 32,
   "id": "5352665f",
   "metadata": {},
   "outputs": [],
   "source": [
    "X_train_with_anomaly_scores = pd.DataFrame(X_train)\n",
    "X_train_with_anomaly_scores = X_train_with_anomaly_scores.add_prefix('col_')\n",
    "X_train_with_anomaly_scores['mse_score'] = mse_train\n",
    "X_train_with_anomaly_scores['ifor_score'] = ifor_preds_train\n",
    "\n",
    "X_test_with_anomaly_scores = pd.DataFrame(X_test)\n",
    "X_test_with_anomaly_scores = X_test_with_anomaly_scores.add_prefix('col_')\n",
    "X_test_with_anomaly_scores['mse_score'] = mse_test\n",
    "X_test_with_anomaly_scores['ifor_score'] = ifor_preds_test"
   ]
  },
  {
   "cell_type": "code",
   "execution_count": 33,
   "id": "b8ed9118",
   "metadata": {},
   "outputs": [],
   "source": [
    "rf_augmented = RandomForestClassifier(n_estimators=100, random_state=514)\n",
    "rf_augmented.fit(X_train_with_anomaly_scores, y_train)\n",
    "rf_augmented_preds = rf_augmented.predict_proba(X_test_with_anomaly_scores)"
   ]
  },
  {
   "cell_type": "code",
   "execution_count": 35,
   "id": "de0de4b0",
   "metadata": {},
   "outputs": [
    {
     "name": "stdout",
     "output_type": "stream",
     "text": [
      "Features with anomaly scores RF AUC = 0.9312187245293044\n"
     ]
    },
    {
     "data": {
      "image/png": "[encoded data removed]",
      "text/plain": [
       "<Figure size 640x480 with 1 Axes>"
      ]
     },
     "metadata": {},
     "output_type": "display_data"
    }
   ],
   "source": [
    "fpr_rf_aug, tpr_rf_aug, _ = roc_curve(y_test, rf_augmented_preds[:, 1])\n",
    "print(\"Features with anomaly scores RF AUC =\", auc(fpr_rf_aug, tpr_rf_aug))\n",
    "\n",
    "plt.plot(fpr_rf_aug, tpr_rf_aug)\n",
    "plt.xlabel(\"False Positive Rate\")\n",
    "plt.ylabel(\"True Positive Rate\")\n",
    "plt.title(\"Random Forest with Anomaly Scores ROC Curve\")\n",
    "plt.grid(False)\n",
    "plt.tight_layout()\n",
    "plt.show()"
   ]
  },
  {
   "cell_type": "markdown",
   "id": "9ee232b5",
   "metadata": {},
   "source": [
    "The results do not improve compared to the model with only original features."
   ]
  },
  {
   "cell_type": "markdown",
   "id": "26198ece",
   "metadata": {},
   "source": [
    "### 4.3. Random Forest with autoencoder embeddings"
   ]
  },
  {
   "cell_type": "markdown",
   "id": "3f7c6911",
   "metadata": {},
   "source": [
    "Now we will do another experiment: taking the embeddings from the bottle-neck layer of the autoencoder and use them as features for our Random Forest."
   ]
  },
  {
   "cell_type": "code",
   "execution_count": 36,
   "id": "07d0eb93",
   "metadata": {},
   "outputs": [],
   "source": [
    "model.eval()\n",
    "with torch.no_grad():\n",
    "    X_train_embeddings = model.encode(X_train_tensor).cpu()\n",
    "    X_test_embeddings = model.encode(X_test_tensor).cpu()"
   ]
  },
  {
   "cell_type": "code",
   "execution_count": 37,
   "id": "0c23f733",
   "metadata": {},
   "outputs": [],
   "source": [
    "rf_embeddings = RandomForestClassifier(n_estimators=100, random_state=514)\n",
    "rf_embeddings.fit(X_train_embeddings, y_train)\n",
    "rf_embeddings_preds = rf_embeddings.predict_proba(X_test_embeddings)"
   ]
  },
  {
   "cell_type": "code",
   "execution_count": 38,
   "id": "7f2449c0",
   "metadata": {},
   "outputs": [
    {
     "name": "stdout",
     "output_type": "stream",
     "text": [
      "Embedding with RF AUC = 0.8489839848046543\n"
     ]
    },
    {
     "data": {
      "image/png": "[encoded data removed]",
      "text/plain": [
       "<Figure size 640x480 with 1 Axes>"
      ]
     },
     "metadata": {},
     "output_type": "display_data"
    }
   ],
   "source": [
    "fpr_rf_emb, tpr_rf_emb, _ = roc_curve(y_test, rf_embeddings_preds[:, 1])\n",
    "print('Embedding with RF AUC =', auc(fpr_rf_emb, tpr_rf_emb))\n",
    "\n",
    "plt.plot(fpr_rf_emb, tpr_rf_emb)\n",
    "plt.xlabel(\"False Positive Rate\")\n",
    "plt.ylabel(\"True Positive Rate\")\n",
    "plt.title(\"Random Forest with Embeddings ROC Curve\")\n",
    "plt.grid(False)\n",
    "plt.tight_layout()\n",
    "plt.show()"
   ]
  },
  {
   "cell_type": "markdown",
   "id": "0af0fc69",
   "metadata": {},
   "source": [
    "The result is not that good. So far, Random Forest on original features remains the best model."
   ]
  },
  {
   "cell_type": "markdown",
   "id": "4890d58b",
   "metadata": {},
   "source": [
    "### 4.4. MLP"
   ]
  },
  {
   "cell_type": "markdown",
   "id": "843f91b4",
   "metadata": {},
   "source": [
    "Instead of Random Forest, we can train a MLP to see if it is better at predicting the target classes."
   ]
  },
  {
   "cell_type": "code",
   "execution_count": 39,
   "id": "8842efe5",
   "metadata": {},
   "outputs": [],
   "source": [
    "class Mlp(nn.Module):\n",
    "    def __init__(self, input_dim):\n",
    "        super().__init__()\n",
    "        self.model = nn.Sequential(\n",
    "            nn.Linear(input_dim, 16),\n",
    "            nn.BatchNorm1d(16),\n",
    "            nn.ReLU(),\n",
    "            nn.Dropout(0.25),\n",
    "            nn.Linear(16, 8),\n",
    "            nn.BatchNorm1d(8),\n",
    "            nn.ReLU(),\n",
    "            nn.Dropout(0.25),\n",
    "            nn.Linear(8, 1),\n",
    "            nn.Sigmoid()\n",
    "        )\n",
    "\n",
    "    def forward(self, x):\n",
    "        return self.model(x)"
   ]
  },
  {
   "cell_type": "code",
   "execution_count": 40,
   "id": "5999a4d7",
   "metadata": {},
   "outputs": [],
   "source": [
    "train_dataset = TensorDataset(X_train_tensor, y_train_tensor)\n",
    "train_loader = DataLoader(train_dataset, batch_size=512, shuffle=True)\n",
    "\n",
    "test_dataset = TensorDataset(X_test_tensor, y_test_tensor)\n",
    "test_loader = DataLoader(test_dataset, batch_size=512, shuffle=False)"
   ]
  },
  {
   "cell_type": "code",
   "execution_count": 43,
   "id": "7bc51036",
   "metadata": {},
   "outputs": [
    {
     "name": "stdout",
     "output_type": "stream",
     "text": [
      "Epoch 1, Average loss: 0.1975\n",
      "Epoch 2, Average loss: 0.0388\n",
      "Epoch 3, Average loss: 0.0196\n",
      "Epoch 4, Average loss: 0.0140\n",
      "Epoch 5, Average loss: 0.0116\n",
      "Epoch 6, Average loss: 0.0100\n",
      "Epoch 7, Average loss: 0.0085\n",
      "Epoch 8, Average loss: 0.0082\n",
      "Epoch 9, Average loss: 0.0073\n",
      "Epoch 10, Average loss: 0.0068\n",
      "Epoch 11, Average loss: 0.0065\n",
      "Epoch 12, Average loss: 0.0060\n",
      "Epoch 13, Average loss: 0.0060\n",
      "Epoch 14, Average loss: 0.0058\n",
      "Epoch 15, Average loss: 0.0056\n",
      "Epoch 16, Average loss: 0.0055\n",
      "Epoch 17, Average loss: 0.0054\n",
      "Epoch 18, Average loss: 0.0053\n",
      "Epoch 19, Average loss: 0.0054\n",
      "Epoch 20, Average loss: 0.0052\n"
     ]
    }
   ],
   "source": [
    "input_dim = X_train_tensor.shape[1]\n",
    "learning_rate = 0.001\n",
    "\n",
    "model = Mlp(input_dim=input_dim).to(DEVICE)\n",
    "optimizer = optim.Adam(model.parameters(), lr=learning_rate)\n",
    "criterion = nn.BCELoss()\n",
    "\n",
    "num_epochs = 20\n",
    "\n",
    "for epoch in range(num_epochs):\n",
    "    model.train()\n",
    "    total_loss = 0\n",
    "    for x, y in train_loader:\n",
    "        x, y = x.to(DEVICE), y.to(DEVICE)\n",
    "        output = model(x).squeeze(1)\n",
    "        loss = criterion(output, y.float())\n",
    "\n",
    "        optimizer.zero_grad()\n",
    "        loss.backward()\n",
    "        optimizer.step()\n",
    "        total_loss += loss.item()\n",
    "\n",
    "    avg_loss = total_loss / len(train_loader)\n",
    "    print(f'Epoch {epoch+1}, Average loss: {avg_loss:.4f}')"
   ]
  },
  {
   "cell_type": "code",
   "execution_count": 44,
   "id": "1593610a",
   "metadata": {},
   "outputs": [
    {
     "name": "stdout",
     "output_type": "stream",
     "text": [
      "Test loss: 0.0039\n"
     ]
    }
   ],
   "source": [
    "model.eval()\n",
    "test_loss = 0\n",
    "\n",
    "with torch.no_grad():\n",
    "    for x, y in test_loader:\n",
    "        x, y = x.to(DEVICE), y.to(DEVICE)\n",
    "        output = model(x).squeeze(1)\n",
    "        loss = criterion(output, y.float())\n",
    "        test_loss += loss.item()\n",
    "\n",
    "avg_test_loss = test_loss / len(test_loader)\n",
    "print(f\"Test loss: {avg_test_loss:.4f}\")"
   ]
  },
  {
   "cell_type": "code",
   "execution_count": 50,
   "id": "9a0b7cbd",
   "metadata": {},
   "outputs": [],
   "source": [
    "model.eval()\n",
    "mlp_preds = []\n",
    "\n",
    "with torch.no_grad():\n",
    "    for x_batch, y_batch in test_loader:\n",
    "        x_batch = x_batch.to(DEVICE)\n",
    "        outputs = model(x_batch).squeeze(1)\n",
    "        probs = outputs.cpu().numpy()\n",
    "\n",
    "        mlp_preds.extend(probs)"
   ]
  },
  {
   "cell_type": "code",
   "execution_count": 52,
   "id": "0b83ec68",
   "metadata": {},
   "outputs": [
    {
     "name": "stdout",
     "output_type": "stream",
     "text": [
      "MLP AUC = 0.9452243904686788\n"
     ]
    },
    {
     "data": {
      "image/png": "[encoded data removed]",
      "text/plain": [
       "<Figure size 640x480 with 1 Axes>"
      ]
     },
     "metadata": {},
     "output_type": "display_data"
    }
   ],
   "source": [
    "fpr_mlp, tpr_mlp, _ = roc_curve(y_test, mlp_preds)\n",
    "print('MLP AUC =', auc(fpr_mlp, tpr_mlp))\n",
    "\n",
    "plt.plot(fpr_mlp, tpr_mlp)\n",
    "plt.xlabel(\"False Positive Rate\")\n",
    "plt.ylabel(\"True Positive Rate\")\n",
    "plt.title(\"MLP ROC Curve\")\n",
    "plt.grid(False)\n",
    "plt.tight_layout()\n",
    "plt.show()"
   ]
  },
  {
   "cell_type": "markdown",
   "id": "b8549847",
   "metadata": {},
   "source": [
    "Our MLP achieved an AUC of 0.9452, which makes it the most performant model of all algorithms we explored."
   ]
  }
 ],
 "metadata": {
  "kernelspec": {
   "display_name": "homl3",
   "language": "python",
   "name": "python3"
  },
  "language_info": {
   "codemirror_mode": {
    "name": "ipython",
    "version": 3
   },
   "file_extension": ".py",
   "mimetype": "text/x-python",
   "name": "python",
   "nbconvert_exporter": "python",
   "pygments_lexer": "ipython3",
   "version": "3.11.12"
  }
 },
 "nbformat": 4,
 "nbformat_minor": 5
}
